{
 "cells": [
  {
   "cell_type": "code",
   "execution_count": 57,
   "id": "0cf122d1-bef3-43c4-9348-cdb01fb6392b",
   "metadata": {},
   "outputs": [],
   "source": [
    "import pandas as pd\n",
    "import numpy as np\n",
    "from sklearn.linear_model import LinearRegression"
   ]
  },
  {
   "cell_type": "code",
   "execution_count": 39,
   "id": "f331ebff-516c-4082-89a2-fd59dae78b20",
   "metadata": {},
   "outputs": [],
   "source": [
    "train = pd.read_table(\"data/zip.train.gz\", delimiter=\" \", header=None)\n",
    "test = pd.read_table(\"data/zip.test.gz\", delimiter=\" \", header=None)\n",
    "X_train, y_train = train[range(1, 257)], train[0]\n",
    "X_test, y_test = test[range(1, 257)], test[0]\n",
    "\n",
    "# filter only 2's and 3's in the dataset\n",
    "# label '2' will become numerical label 0 and '3' will become 1\n",
    "\n",
    "y_train = y_train.loc[y_train.isin([2.0, 3.0])].replace({2.0: 0, 3.0: 1})\n",
    "y_test = y_test.loc[y_test.isin([2.0, 3.0])].replace({2.0: 0, 3.0: 1})\n",
    "X_train = X_train.loc[y_train.index]\n",
    "X_test = X_test.loc[y_test.index]"
   ]
  },
  {
   "cell_type": "code",
   "execution_count": 80,
   "id": "1ddafc69-b26e-43c2-a950-ecd7780e37c1",
   "metadata": {},
   "outputs": [],
   "source": [
    "from sklearn.linear_model import LinearRegression\n",
    "from sklearn.neighbors import KNeighborsClassifier\n",
    "from sklearn.metrics import classification_report"
   ]
  },
  {
   "cell_type": "code",
   "execution_count": 81,
   "id": "5d1f224b-be08-4413-b974-f45294ca9960",
   "metadata": {},
   "outputs": [
    {
     "name": "stdout",
     "output_type": "stream",
     "text": [
      "              precision    recall  f1-score   support\n",
      "\n",
      "           0     0.9598    0.9646    0.9622       198\n",
      "           1     0.9576    0.9518    0.9547       166\n",
      "\n",
      "    accuracy                         0.9588       364\n",
      "   macro avg     0.9587    0.9582    0.9584       364\n",
      "weighted avg     0.9588    0.9588    0.9588       364\n",
      "\n"
     ]
    }
   ],
   "source": [
    "# linear regression\n",
    "\n",
    "reg = LinearRegression().fit(X_train, y_train)\n",
    "y_test_hat = np.vectorize(lambda x: int(x > 0.5))(reg.predict(X_test))\n",
    "\n",
    "print(classification_report(y_test, y_test_hat, digits=4))"
   ]
  },
  {
   "cell_type": "code",
   "execution_count": 82,
   "id": "1d83adb6-3fc7-4f3d-9298-a60e4c61bcd1",
   "metadata": {},
   "outputs": [
    {
     "name": "stdout",
     "output_type": "stream",
     "text": [
      "K = 1\n",
      "              precision    recall  f1-score   support\n",
      "\n",
      "           0     0.9846    0.9697    0.9771       198\n",
      "           1     0.9645    0.9819    0.9731       166\n",
      "\n",
      "    accuracy                         0.9753       364\n",
      "   macro avg     0.9746    0.9758    0.9751       364\n",
      "weighted avg     0.9754    0.9753    0.9753       364\n",
      "\n",
      "K = 3\n",
      "              precision    recall  f1-score   support\n",
      "\n",
      "           0     0.9795    0.9646    0.9720       198\n",
      "           1     0.9586    0.9759    0.9672       166\n",
      "\n",
      "    accuracy                         0.9698       364\n",
      "   macro avg     0.9690    0.9703    0.9696       364\n",
      "weighted avg     0.9700    0.9698    0.9698       364\n",
      "\n",
      "K = 5\n",
      "              precision    recall  f1-score   support\n",
      "\n",
      "           0     0.9795    0.9646    0.9720       198\n",
      "           1     0.9586    0.9759    0.9672       166\n",
      "\n",
      "    accuracy                         0.9698       364\n",
      "   macro avg     0.9690    0.9703    0.9696       364\n",
      "weighted avg     0.9700    0.9698    0.9698       364\n",
      "\n",
      "K = 7\n",
      "              precision    recall  f1-score   support\n",
      "\n",
      "           0     0.9844    0.9545    0.9692       198\n",
      "           1     0.9477    0.9819    0.9645       166\n",
      "\n",
      "    accuracy                         0.9670       364\n",
      "   macro avg     0.9660    0.9682    0.9669       364\n",
      "weighted avg     0.9676    0.9670    0.9671       364\n",
      "\n",
      "K = 15\n",
      "              precision    recall  f1-score   support\n",
      "\n",
      "           0     0.9842    0.9444    0.9639       198\n",
      "           1     0.9368    0.9819    0.9588       166\n",
      "\n",
      "    accuracy                         0.9615       364\n",
      "   macro avg     0.9605    0.9632    0.9614       364\n",
      "weighted avg     0.9626    0.9615    0.9616       364\n",
      "\n"
     ]
    }
   ],
   "source": [
    "# KNN with k = 1, 3, 5, 7, 15\n",
    "\n",
    "for k in [1, 3, 5, 7, 15]:\n",
    "    knn = KNeighborsClassifier(n_neighbors=k).fit(X_train, y_train)\n",
    "    y_test_hat = knn.predict(X_test)\n",
    "    print(\"K =\", k)\n",
    "    print(classification_report(y_test, y_test_hat, digits=4))"
   ]
  },
  {
   "cell_type": "code",
   "execution_count": null,
   "id": "ec3e4f5a-a26b-4a99-867c-46215aca15b3",
   "metadata": {},
   "outputs": [],
   "source": []
  }
 ],
 "metadata": {
  "kernelspec": {
   "display_name": "main",
   "language": "python",
   "name": "main"
  },
  "language_info": {
   "codemirror_mode": {
    "name": "ipython",
    "version": 3
   },
   "file_extension": ".py",
   "mimetype": "text/x-python",
   "name": "python",
   "nbconvert_exporter": "python",
   "pygments_lexer": "ipython3",
   "version": "3.10.0rc2"
  }
 },
 "nbformat": 4,
 "nbformat_minor": 5
}
